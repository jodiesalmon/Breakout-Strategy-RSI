{
 "cells": [
  {
   "cell_type": "markdown",
   "id": "12086422",
   "metadata": {},
   "source": [
    "# RSI Breakout Strategy Backtest"
   ]
  },
  {
   "cell_type": "code",
   "execution_count": null,
   "id": "7c3d56b0",
   "metadata": {},
   "outputs": [],
   "source": [
    "\n",
    "import yfinance as yf\n",
    "import pandas as pd\n",
    "import numpy as np\n",
    "import matplotlib.pyplot as plt\n"
   ]
  },
  {
   "cell_type": "code",
   "execution_count": null,
   "id": "99b5dd0c",
   "metadata": {},
   "outputs": [],
   "source": [
    "\n",
    "# Download stock data\n",
    "data = yf.download(\"AAPL\", start=\"2019-01-01\", end=\"2023-01-01\")\n"
   ]
  },
  {
   "cell_type": "code",
   "execution_count": null,
   "id": "5767f97e",
   "metadata": {},
   "outputs": [],
   "source": [
    "\n",
    "# Calculate RSI\n",
    "delta = data['Close'].diff()\n",
    "gain = (delta.where(delta > 0, 0)).rolling(window=14).mean()\n",
    "loss = (-delta.where(delta < 0, 0)).rolling(window=14).mean()\n",
    "rs = gain / loss\n",
    "data['RSI'] = 100 - (100 / (1 + rs))\n",
    "data = data.dropna()\n"
   ]
  },
  {
   "cell_type": "code",
   "execution_count": null,
   "id": "9dabb81c",
   "metadata": {},
   "outputs": [],
   "source": [
    "\n",
    "# Create RSI breakout signals\n",
    "data['Signal'] = 0\n",
    "data.loc[(data['RSI'].shift(1) < 30) & (data['RSI'] > 30), 'Signal'] = 1  # Buy\n",
    "data.loc[(data['RSI'].shift(1) > 70) & (data['RSI'] < 70), 'Signal'] = -1  # Sell\n",
    "data['Position'] = data['Signal'].shift(1)\n"
   ]
  },
  {
   "cell_type": "code",
   "execution_count": null,
   "id": "a6bdc324",
   "metadata": {},
   "outputs": [],
   "source": [
    "\n",
    "# Calculate returns\n",
    "data['Daily Return'] = data['Close'].pct_change()\n",
    "data['Strategy Return'] = data['Daily Return'] * data['Position']\n"
   ]
  },
  {
   "cell_type": "code",
   "execution_count": null,
   "id": "14de78ef",
   "metadata": {},
   "outputs": [],
   "source": [
    "\n",
    "# Plot RSI and price\n",
    "plt.figure(figsize=(14, 6))\n",
    "plt.plot(data['RSI'], label='RSI')\n",
    "plt.axhline(70, color='r', linestyle='--', label='Overbought (70)')\n",
    "plt.axhline(30, color='g', linestyle='--', label='Oversold (30)')\n",
    "plt.title('AAPL RSI Indicator')\n",
    "plt.xlabel('Date')\n",
    "plt.ylabel('RSI')\n",
    "plt.legend()\n",
    "plt.grid(True)\n",
    "plt.show()\n"
   ]
  },
  {
   "cell_type": "code",
   "execution_count": null,
   "id": "94d94ac0",
   "metadata": {},
   "outputs": [],
   "source": [
    "\n",
    "# Plot cumulative returns\n",
    "data[['Daily Return', 'Strategy Return']].dropna().cumsum().plot(figsize=(12, 6), title='Cumulative Returns: RSI Breakout Strategy')\n",
    "plt.xlabel('Date')\n",
    "plt.ylabel('Cumulative Return')\n",
    "plt.grid(True)\n",
    "plt.show()\n"
   ]
  }
 ],
 "metadata": {},
 "nbformat": 4,
 "nbformat_minor": 5
}
